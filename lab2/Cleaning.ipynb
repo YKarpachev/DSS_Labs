{
 "cells": [
  {
   "cell_type": "markdown",
   "id": "fc2673a2-9f9d-4440-acdb-f0814ba4c910",
   "metadata": {},
   "source": [
    "**Карпачев Ярослав НБИбд-01-23**\n",
    "**Камалиева Лия НБИбд-01-23**\n",
    "*Биржа - рынок ценных бумаг*"
   ]
  },
  {
   "cell_type": "markdown",
   "id": "f5afe650-27dc-4d96-a36e-7dfe9b4bee0f",
   "metadata": {},
   "source": [
    "**read_clean**\n",
    "— **Что делает:** проверяет схему, приводит типы, сортирует по времени, убирает NaN и дубликаты меток.\n",
    "— **Зачем:** устраняет технический мусор, чтобы индексация по времени и расчёт фич работали корректно.\n",
    "\n",
    "**filter_rth**\n",
    "— **Что делает:** оставляет бары только по будням 09:30–16:00 (RTH).\n",
    "— **Зачем:** исключает иной режим пре/пост-маркета, повышает стационарность данных.\n",
    "\n",
    "**enforce_candles**\n",
    "— **Что делает:** удаляет свечи с неположительными ценами/объёмами и нарушенной логикой OHLC (тело вне [Low, High], High < Low).\n",
    "— **Зачем:** убирает артефакты провайдера/агрегации, которые искажают ретёрны и фичи.\n",
    "\n",
    "**uniform_grid**\n",
    "— **Что делает:** перестраивает точную 15-минутную сетку 09:30–16:00 и переиндексирует данные, отбрасывая несоответствия.\n",
    "— **Зачем:** гарантирует фиксированный шаг времени для лагов, роллингов и стабильной кросс-валидации.\n",
    "\n",
    "**add_session_cols**\n",
    "— **Что делает:** помечает начала сессий/разрывы и считает ретёрны только на точном шаге 15 минут внутри той же сессии.\n",
    "— **Зачем:** исключает overnight-скачки из внутридневной статистики, стабилизирует распределения.\n",
    "\n",
    "**drop_ret_outliers**\n",
    "— **Что делает:** фильтрует выбросы доходностей жёстким порогом `|ret|` и робастным MAD-z в окне.\n",
    "— **Зачем:** удаляет ошибочные «шипы», чтобы модель не переучивалась на артефакты.\n",
    "\n",
    "**drop_vol_outliers**\n",
    "— **Что делает:** фильтрует выбросы объёмов по MAD-z на `log1p(Volume)`.\n",
    "— **Зачем:** стабилизирует влияние объёма и убирает битые пики, не трогая нормальные всплески ликвидности.\n",
    "\n",
    "**drop_bad_days**\n",
    "— **Что делает:** удаляет дни с недостаточным числом 15-минутных баров (меньше допустимого порога).\n",
    "— **Зачем:** сохраняет равномерность последовательностей и корректность временных фич.\n"
   ]
  },
  {
   "cell_type": "markdown",
   "id": "640b3652-0be8-4155-8aa8-8af9cd9a2546",
   "metadata": {},
   "source": [
    "Ключевые эффекты: RET_MAX_ABS — жёсткий отсек по доходности; RET_MAD_Z/VOL_MAD_Z — робастные пороги выбросов; ROLL_BARS_* — адаптивность “нормы”; MAX_MISS_PER_DAY — компромисс между полнотой данных и равномерностью; KEEP_ONLY_RTH и UNIFORMIZE_GRID — приводят данные к стабильному внутридневному режиму и точной сетке.\n"
   ]
  },
  {
   "cell_type": "code",
   "execution_count": null,
   "id": "0a230169-201d-4ff8-8b61-3769c9de80c2",
   "metadata": {},
   "outputs": [],
   "source": [
    "import numpy as np, pandas as pd\n",
    "\n",
    "INPUT_PATH  = \"kaggle_nvda_processed.csv\"\n",
    "OUTPUT_PATH = \"NVDA_CLEAN_15M.csv\"\n",
    "\n",
    "BAR_MINUTES = 15\n",
    "RET_MAX_ABS = 0.35\n",
    "RET_MAD_Z = 9.0\n",
    "ROLL_BARS_RET = 200\n",
    "VOL_MAD_Z = 9.0\n",
    "ROLL_BARS_VOL = 500\n",
    "MIN_WINDOW = 100\n",
    "REQUIRE_POS_VOL = True\n",
    "KEEP_ONLY_RTH = True\n",
    "UNIFORMIZE_GRID = True\n",
    "DROP_BAD_DAYS = True\n",
    "MAX_MISS_PER_DAY = 4\n"
   ]
  },
  {
   "cell_type": "markdown",
   "id": "c01df269-4566-483c-9831-ff96876d6d5e",
   "metadata": {},
   "source": [
    "Утилиты:\n",
    "`pct` — безопасный перцентиль (игнорирует NaN).\n",
    "`madz` — скользящий робастный z-score (медиана+MAD, масштаб 1.4826). Позволяет отсекать экстремальные значения относительно локального режима.\n",
    "`record` — логирует шаг: было/стало/сколько удалили/примечания.\n",
    "`fmt_report` — формирует читаемый TXT-отчёт (мета, шаги, финстаты) для аудита и воспроизводимости.\n"
   ]
  },
  {
   "cell_type": "code",
   "execution_count": null,
   "id": "675a0781-5853-452d-ae37-59899525b202",
   "metadata": {},
   "outputs": [],
   "source": [
    "def pct(s, p):\n",
    "    s = s.dropna()\n",
    "    return float(np.nanpercentile(s, p)) if len(s) else np.nan\n",
    "\n",
    "def madz(x, w, mn):\n",
    "    med = x.rolling(w, min_periods=mn).median()\n",
    "    mad = (x - med).abs().rolling(w, min_periods=mn).median()\n",
    "    return (x - med) / (1.4826 * mad.replace(0, np.nan))\n",
    "\n",
    "def record(steps, name, before, after, notes=None):\n",
    "    steps.append((name, before, after, before - after, notes or {}))\n",
    "\n",
    "def fmt_report(meta, steps, stats):\n",
    "    lines = [\"=== DSS Intraday Cleaner Report (15m OHLCV) ===\", \"\\n[Meta]\"]\n",
    "    for k, v in meta.items():\n",
    "        lines.append(f\"- {k}: {v}\")\n",
    "    lines.append(\"\\n[Steps]\")\n",
    "    lines.append(f\"{'Step':28} {'Before':>12} {'After':>12}  Dropped  Notes\")\n",
    "    for n, b, a, d, nt in steps:\n",
    "        note = \"; \".join(f\"{k}={v}\" for k, v in nt.items()) if nt else \"\"\n",
    "        lines.append(f\"{n:28} {b:>12,} {a:>12,}  {d:>7,}  {note}\")\n",
    "    lines.append(\"\\n[Post-clean stats]\")\n",
    "    for k, v in stats.items():\n",
    "        lines.append(f\"- {k}: {v}\")\n",
    "    return \"\\n\".join(lines)\n"
   ]
  },
  {
   "cell_type": "markdown",
   "id": "459c4b26-38d7-49ec-8a75-fb0833782e2a",
   "metadata": {},
   "source": [
    "Загрузка и базовая гигиена:\n",
    "Проверка схемы (наличие столбцов), приведение типов (в том числе жестко к числам), сортировка по времени, удаление строк с NaN в ключевых полях и дублей по времени.\n",
    "Важно: на этом этапе мы не редактируем значения — только валидируем и фильтруем, чтобы убрать явные технические артефакты ввода.\n",
    "    "
   ]
  },
  {
   "cell_type": "code",
   "execution_count": null,
   "id": "8cae6162-a749-43f6-ab5e-c87a7e8fe6cf",
   "metadata": {},
   "outputs": [],
   "source": [
    "def read_clean(path):\n",
    "    df = pd.read_csv(path)\n",
    "    need = {\"datetime\", \"Open\", \"High\", \"Low\", \"Close\", \"Volume\"}\n",
    "    miss = need - set(df.columns)\n",
    "    if miss: raise ValueError(f\"Missing columns: {miss}\")\n",
    "    df[\"datetime\"] = pd.to_datetime(df[\"datetime\"], errors=\"coerce\")\n",
    "    for c in [\"Open\", \"High\", \"Low\", \"Close\", \"Volume\"]:\n",
    "        df[c] = pd.to_numeric(df[c], errors=\"coerce\")\n",
    "    return (df.dropna(subset=list(need))\n",
    "              .sort_values(\"datetime\")\n",
    "              .drop_duplicates(subset=[\"datetime\"]))\n"
   ]
  },
  {
   "cell_type": "markdown",
   "id": "1cf893a4-7685-4aeb-86e3-0a4dd883fb86",
   "metadata": {},
   "source": [
    "Фильтр торговых часов (RTH):\n",
    "Оставляем только бары в будние дни и интервале 09:30–16:00. Это убирает иной микроструктурный режим пре-/пост-маркета.\n"
   ]
  },
  {
   "cell_type": "code",
   "execution_count": null,
   "id": "79dac7a5-cd05-4577-a644-6cab804fb955",
   "metadata": {},
   "outputs": [],
   "source": [
    "def filter_rth(df):\n",
    "    if not KEEP_ONLY_RTH: return df\n",
    "    wd = df[\"datetime\"].dt.weekday < 5\n",
    "    from datetime import time\n",
    "    rth = (df[\"datetime\"].dt.time >= time(9, 30)) & (df[\"datetime\"].dt.time <= time(16, 0))\n",
    "    return df[wd & rth].copy()\n"
   ]
  },
  {
   "cell_type": "markdown",
   "id": "cd45c8a3-4829-46a8-8f8c-02d11dbb6873",
   "metadata": {},
   "source": [
    "Проверка валидности свечей:\n",
    "Три проверки одновременно:\n",
    "(1) положительные цены (и объёмы при REQUIRE_POS_VOL=True),\n",
    "(2) тело свечи внутри диапазона [Low, High],\n",
    "(3) High ≥ Low.\n",
    "Возвращается отфильтрованный DataFrame и статистика причин отбраковки — это удобно для отчёта и гипер-тюнинга фильтров.\n"
   ]
  },
  {
   "cell_type": "code",
   "execution_count": null,
   "id": "4a9b3afa-a35c-48b3-a5fa-c5757f0031da",
   "metadata": {},
   "outputs": [],
   "source": [
    "def enforce_candles(df):\n",
    "    pos = (df[[\"Open\", \"High\", \"Low\", \"Close\"]] > 0).all(axis=1)\n",
    "    vol = (df[\"Volume\"] > 0) if REQUIRE_POS_VOL else (df[\"Volume\"] >= 0)\n",
    "    body = (df[\"High\"] >= df[[\"Open\", \"Close\"]].max(axis=1)) & (df[\"Low\"] <= df[[\"Open\", \"Close\"]].min(axis=1))\n",
    "    shape = (df[\"High\"] >= df[\"Low\"])\n",
    "    return df[pos & vol & body & shape].copy(), {\n",
    "        \"neg_price\": int((~(df[[\"Open\",\"High\",\"Low\",\"Close\"]]>0).all(axis=1)).sum()),\n",
    "        \"nonpos_vol\": int((~(df[\"Volume\"]>0) if REQUIRE_POS_VOL else ~(df[\"Volume\"]>=0)).sum()),\n",
    "        \"high<low\": int((df[\"High\"]<df[\"Low\"]).sum()),\n",
    "        \"body_outside\": int((~body).sum())\n",
    "    }\n"
   ]
  },
  {
   "cell_type": "markdown",
   "id": "a0fef6e0-c562-40c6-a7f7-2217a5863f0d",
   "metadata": {},
   "source": [
    "Ровная 15-минутная сетка по каждому дню:\n",
    "Создаём эталонные временные метки 09:30…16:00 с шагом 15 мин, переиндексируем и выбрасываем строки, не попавшие в сетку или дающие пропуски после reindex.\n",
    "Эффекты: фиксированный шаг времени гарантирует корректность лагов/роллингов/кросс-валидации; устраняет “дрожание” таймингов и дубликаты индекса.\n"
   ]
  },
  {
   "cell_type": "code",
   "execution_count": null,
   "id": "19d20355-de68-4ade-ba15-e90d52d41aff",
   "metadata": {},
   "outputs": [],
   "source": [
    "def uniform_grid(df):\n",
    "    if not UNIFORMIZE_GRID: return df\n",
    "    dates = sorted(df[\"datetime\"].dt.date.unique())\n",
    "    if not dates: return df\n",
    "    opens  = pd.to_datetime([f\"{d} 09:30:00\" for d in dates])\n",
    "    closes = pd.to_datetime([f\"{d} 16:00:00\" for d in dates])\n",
    "    idx = []\n",
    "    for o, c in zip(opens, closes):\n",
    "        if o.weekday() < 5:\n",
    "            idx.append(pd.date_range(o, c, freq=f\"{BAR_MINUTES}min\"))\n",
    "    if not idx: return df.iloc[0:0].copy()\n",
    "    grid = pd.DatetimeIndex(np.concatenate(idx)).unique().sort_values()\n",
    "    left = df.set_index(\"datetime\")\n",
    "    left = left[~left.index.duplicated(keep=\"first\")]\n",
    "    out = left.reindex(grid)\n",
    "    out.index.name = \"datetime\"\n",
    "    return out.dropna(subset=[\"Open\",\"High\",\"Low\",\"Close\",\"Volume\"]).reset_index()\n"
   ]
  },
  {
   "cell_type": "markdown",
   "id": "201689e5-b081-4d18-a902-433d1d1ddc20",
   "metadata": {},
   "source": [
    "Маркер сессий и “time-aware” доходности:\n",
    "new_session — True для первой строки и для разрывов > 15 минут (переступили границу сессии/дня).\n",
    "ret — доходность рассчитывается только если шаг ровно 15 минут и это та же сессия. Это исключает overnight и нерегулярные интервалы из внутрисессионной статистики.\n"
   ]
  },
  {
   "cell_type": "code",
   "execution_count": null,
   "id": "fcb4ba18-31bb-4ff5-be8f-722685561a06",
   "metadata": {},
   "outputs": [],
   "source": [
    "def add_session_cols(df):\n",
    "    df = df.copy()\n",
    "    minutes = df[\"datetime\"].diff().dt.total_seconds().div(60)\n",
    "    df[\"new_session\"] = minutes.isna() | (minutes > BAR_MINUTES)\n",
    "    df[\"ret\"] = df[\"Close\"].pct_change().where((minutes == BAR_MINUTES) & (~df[\"new_session\"]))\n",
    "    return df\n"
   ]
  },
  {
   "cell_type": "markdown",
   "id": "02454ffa-a115-4030-b7bf-871dba93901f",
   "metadata": {},
   "source": [
    "Фильтр выбросов по доходности:\n",
    "Комбинация жёсткого порога (RET_MAX_ABS) и робастного MAD-z на |ret| — отсекаем явные артефакты и локально экстремальные движения, не затрагивая нормальные хвосты распределения.\n",
    "Параметры RET_MAD_Z и ROLL_BARS_RET регулируют строгость и инерционность.\n"
   ]
  },
  {
   "cell_type": "code",
   "execution_count": null,
   "id": "e5869cf7-d6f2-4619-b5d0-9bb1b8766e6a",
   "metadata": {},
   "outputs": [],
   "source": [
    "def drop_ret_outliers(df):\n",
    "    df = df.copy()\n",
    "    hard_ok = df[\"ret\"].abs() <= RET_MAX_ABS\n",
    "    hard_ok |= df[\"ret\"].isna()\n",
    "    z = madz(df[\"ret\"].abs(), ROLL_BARS_RET, MIN_WINDOW)\n",
    "    keep = hard_ok & ((z <= RET_MAD_Z) | z.isna())\n",
    "    return df[keep].copy()\n"
   ]
  },
  {
   "cell_type": "markdown",
   "id": "fa529698-5e6f-4493-afa1-eade7c0fa264",
   "metadata": {},
   "source": [
    "Фильтр выбросов по объёму:\n",
    "Рассчитываем MAD-z не по объёму напрямую, а по log1p(Volume) — это стабилизирует дисперсию.\n",
    "Сочетание VOL_MAD_Z/ROLL_BARS_VOL задаёт толерантность к пикам объёма (слишком строгие значения могут вырезать новости/earnings).\n"
   ]
  },
  {
   "cell_type": "code",
   "execution_count": null,
   "id": "adec442f-76c4-4296-ab1b-68493be59cba",
   "metadata": {},
   "outputs": [],
   "source": [
    "def drop_vol_outliers(df):\n",
    "    df = df.copy()\n",
    "    lv = np.log1p(df[\"Volume\"].clip(lower=0))\n",
    "    z = madz(lv, ROLL_BARS_VOL, MIN_WINDOW)\n",
    "    return df[(z.abs() <= VOL_MAD_Z) | z.isna()].copy()\n"
   ]
  },
  {
   "cell_type": "markdown",
   "id": "4b31e16b-8572-4ec7-9882-3c155f23afe6",
   "metadata": {},
   "source": [
    "Удаление неполных дней:\n",
    "Ожидаем 26 баров на RTH-день при 15 мин. Удаляем дни, где баров меньше, чем 26 - MAX_MISS_PER_DAY.\n",
    "Плюсы: равномерность и стабильность фич; минусы: теряем покрытие в дни с частыми пропусками (например, технические сбои).\n"
   ]
  },
  {
   "cell_type": "code",
   "execution_count": null,
   "id": "d2316d67-59a0-4ac7-a0c1-c1c05fcd674b",
   "metadata": {},
   "outputs": [],
   "source": [
    "def drop_bad_days(df):\n",
    "    if not DROP_BAD_DAYS: return df\n",
    "    expected = int(round(390 / BAR_MINUTES))  # 26\n",
    "    cnt = df.groupby(df[\"datetime\"].dt.date)[\"datetime\"].count()\n",
    "    bad = cnt[cnt < (expected - MAX_MISS_PER_DAY)].index\n",
    "    return df[~df[\"datetime\"].dt.date.isin(bad)].copy(), {\n",
    "        \"days_before\": int(cnt.index.nunique()),\n",
    "        \"days_after\":  int(df[~df[\"datetime\"].dt.date.isin(bad)][\"datetime\"].dt.date.nunique()),\n",
    "        \"dropped_days\": int(len(bad)),\n",
    "        \"avg_bars_on_dropped_days\": float(cnt.loc[bad].mean()) if len(bad) else None,\n",
    "        \"expected_bars_per_day\": expected\n",
    "    }\n"
   ]
  },
  {
   "cell_type": "markdown",
   "id": "4ab9bcfd-9790-4ec6-9ac6-065223ebaf4d",
   "metadata": {},
   "source": [
    "Финальная проверка качества:\n",
    "Гарантируем уникальные метки времени, положительные цены, корректные отношения High/Low к телу свечи.\n",
    "Если что-то нарушено — падаем с assert, чтобы не выпускать неконсистентный датасет.\n"
   ]
  },
  {
   "cell_type": "code",
   "execution_count": null,
   "id": "e2697fb2-7d16-40ee-8b4e-08fd1ef1552a",
   "metadata": {},
   "outputs": [],
   "source": [
    "def final_qc(df):\n",
    "    df = df.sort_values(\"datetime\").drop_duplicates(subset=[\"datetime\"])\n",
    "    assert (df[[\"Open\",\"High\",\"Low\",\"Close\"]]>0).all().all()\n",
    "    assert (df[\"High\"]>=df[\"Low\"]).all()\n",
    "    assert (df[\"High\"]>=df[[\"Open\",\"Close\"]].max(axis=1)).all()\n",
    "    assert (df[\"Low\"] <=df[[\"Open\",\"Close\"]].min(axis=1)).all()\n",
    "    return df\n"
   ]
  },
  {
   "cell_type": "markdown",
   "id": "c94ba35d-e7ad-4484-975e-ce52b78bcd62",
   "metadata": {},
   "source": [
    "Финальные метрики:\n",
    "Проверяем равномерность внутри сессий (медианный разрыв и % ровно 15 минут), поведение доходностей (mean/std/хвосты), поведение объёмов (mean/median/разброс лог-объёма). Эти цифры быстро показывают, что данные консистентны и без “пилообразных” дыр.\n"
   ]
  },
  {
   "cell_type": "code",
   "execution_count": null,
   "id": "501af48f-b36c-440f-a47e-3433f8aa6dff",
   "metadata": {},
   "outputs": [],
   "source": [
    "def post_stats(df):\n",
    "    tmp = add_session_cols(df.copy())\n",
    "    mins = df[\"datetime\"].diff().dt.total_seconds().div(60)\n",
    "    intra = mins.where(~tmp[\"new_session\"]).dropna()\n",
    "    r = tmp[\"ret\"].dropna()\n",
    "    lv = np.log1p(df[\"Volume\"].clip(lower=0))\n",
    "    return {\n",
    "        \"rows\": f\"{len(df):,}\",\n",
    "        \"date_range\": f\"{df['datetime'].min()} → {df['datetime'].max()}\",\n",
    "        \"unique_days\": int(df[\"datetime\"].dt.date.nunique()),\n",
    "        \"bars_expected_per_day(15m_RTH)\": int(round(390 / 15)),\n",
    "        \"median_gap_minutes_intra\": float(np.nanmedian(intra)) if len(intra) else np.nan,\n",
    "        \"pct_gaps_eq_15m_intra\": float((intra == 15).mean() * 100) if len(intra) else np.nan,\n",
    "        \"returns.count\": int(r.count()),\n",
    "        \"returns.mean\": float(r.mean()),\n",
    "        \"returns.std\": float(r.std()),\n",
    "        \"returns.abs.p95\": pct(r.abs(), 95),\n",
    "        \"returns.abs.p99\": pct(r.abs(), 99),\n",
    "        \"volume.mean\": float(df[\"Volume\"].mean()),\n",
    "        \"volume.median\": float(df[\"Volume\"].median()),\n",
    "        \"log_volume.std\": float(lv.std()),\n",
    "        \"log_volume.p95\": pct(lv, 95),\n",
    "    }\n"
   ]
  },
  {
   "cell_type": "markdown",
   "id": "730efd56-b0ab-4416-ae7f-02f9f838df54",
   "metadata": {},
   "source": [
    "Оркестрация:\n",
    "Последовательно запускаем шаги, логируем сводку, сохраняем очищенный CSV и TXT-отчёт.\n"
   ]
  },
  {
   "cell_type": "code",
   "execution_count": null,
   "id": "5ca9f612-61a0-42bf-b3de-413aae4432f9",
   "metadata": {},
   "outputs": [],
   "source": [
    "steps = []\n",
    "df = read_clean(INPUT_PATH)\n",
    "meta = dict(\n",
    "    input_file=INPUT_PATH,\n",
    "    rows_loaded=len(df),\n",
    "    start=str(df[\"datetime\"].min()),\n",
    "    end=str(df[\"datetime\"].max()),\n",
    "    config=dict(\n",
    "        BAR_MINUTES=BAR_MINUTES, RET_MAX_ABS=RET_MAX_ABS, RET_MAD_Z=RET_MAD_Z,\n",
    "        VOL_MAD_Z=VOL_MAD_Z, ROLL_BARS_RET=ROLL_BARS_RET, ROLL_BARS_VOL=ROLL_BARS_VOL,\n",
    "        MIN_WINDOW=MIN_WINDOW, KEEP_ONLY_RTH=KEEP_ONLY_RTH, UNIFORMIZE_GRID=UNIFORMIZE_GRID,\n",
    "        DROP_BAD_DAYS=DROP_BAD_DAYS, MAX_MISS_PER_DAY=MAX_MISS_PER_DAY, REQUIRE_POS_VOL=REQUIRE_POS_VOL\n",
    "    )\n",
    ")\n",
    "\n",
    "b = len(df); df = filter_rth(df); record(steps, \"filter_market_hours\", b, len(df))\n",
    "\n",
    "b = len(df); df2, notes = enforce_candles(df); df = df2; record(steps, \"enforce_candle_validity\", b, len(df), notes)\n",
    "\n",
    "b = len(df); df = uniform_grid(df); record(steps, \"uniformize_grid_rth\", b, len(df))\n",
    "\n",
    "b = len(df); df = add_session_cols(df); record(steps, \"add_session_keys\", b, len(df))\n",
    "b = len(df); df = add_session_cols(df); record(steps, \"time_aware_returns\", b, len(df))  # дублируем вызов для явной фиксации шага в отчёте\n",
    "\n",
    "def hard_note(before_df, after_df):\n",
    "    x = before_df.dropna(subset=[\"ret\"])\n",
    "    return {\"hard_guard_exceeded\": int((x[\"ret\"].abs() > RET_MAX_ABS).sum())}\n",
    "\n",
    "b = len(df); df = drop_ret_outliers(df); record(steps, \"drop_price_outliers\", b, len(df), hard_note(df, df))\n",
    "\n",
    "b = len(df); df = drop_vol_outliers(df); record(steps, \"drop_volume_outliers\", b, len(df))\n",
    "\n",
    "b = len(df); df2, notes = drop_bad_days(df); df = df2; record(steps, \"drop_days_with_many_missing\", b, len(df), notes)\n",
    "\n",
    "b = len(df); df = df.drop(columns=[\"new_session\", \"ret\"], errors=\"ignore\"); df = final_qc(df); record(steps, \"final_qc\", b, len(df))\n",
    "\n",
    "df.to_csv(OUTPUT_PATH, index=False)\n",
    "stats = post_stats(df)\n",
    "report_txt = fmt_report(meta, steps, stats)\n",
    "base = OUTPUT_PATH.rsplit(\".\", 1)[0]\n",
    "with open(base + \"_report.txt\", \"w\", encoding=\"utf-8\") as f:\n",
    "    f.write(report_txt)\n",
    "\n",
    "print(f\"Saved cleaned dataset: {OUTPUT_PATH} ({len(df):,} rows)\")\n",
    "print(f\"Report: {base}_report.txt\")\n"
   ]
  },
  {
   "cell_type": "markdown",
   "id": "476727f6-d288-4936-a883-f940afefede2",
   "metadata": {},
   "source": [
    "Результаты для данного датасета:\n",
    "[Meta]\n",
    "- input_file: kaggle_nvda_processed.csv\n",
    "- rows_loaded: 138658\n",
    "- start: 1999-01-22 09:30:00\n",
    "- end: 2020-04-01 15:45:00\n",
    "- config: {'BAR_MINUTES': 15, 'RET_MAX_ABS': 0.35, 'RET_MAD_Z': 9.0, 'VOL_MAD_Z': 9.0, 'ROLL_BARS_RET': 200, 'ROLL_BARS_VOL': 500, 'MIN_WINDOW': 100, 'KEEP_ONLY_RTH': True, 'UNIFORMIZE_GRID': True, 'DROP_BAD_DAYS': True, 'MAX_MISS_PER_DAY': 4, 'REQUIRE_POS_VOL': True}\n",
    "\n",
    "[Steps]\n",
    "Step                               Before        After  Dropped  Notes\n",
    "filter_market_hours               138,658      138,658        0  \n",
    "enforce_candle_validity           138,658      132,030    6,628  neg_price=0; nonpos_vol=0; high<low=0; body_outside=6628\n",
    "uniformize_grid_rth               132,030      132,030        0  \n",
    "add_session_keys                  132,030      132,030        0  \n",
    "time_aware_returns                132,030      132,030        0  \n",
    "drop_price_outliers               132,030      130,541    1,489  hard_guard_exceeded=0\n",
    "drop_volume_outliers              130,541      130,541        0  \n",
    "drop_days_with_many_missing       130,541      120,317   10,224  days_before=5333; days_after=4777; dropped_days=556; avg_bars_on_dropped_days=18.388489208633093; expected_bars_per_day=26\n",
    "final_qc                          120,317      120,317        0  \n",
    "\n",
    "[Post-clean stats]\n",
    "- rows: 120,317\n",
    "- date_range: 1999-01-22 09:30:00 → 2020-03-26 15:45:00\n",
    "- unique_days: 4777\n",
    "- bars_expected_per_day(15m_RTH): 26\n",
    "- median_gap_minutes_intra: 15.0\n",
    "- pct_gaps_eq_15m_intra: 100.0\n",
    "- returns.count: 112141\n",
    "- returns.mean: -2.014948772298596e-05\n",
    "- returns.std: 0.0016971272261611606\n",
    "- returns.abs.p95: 0.0035842293906809264\n",
    "- returns.abs.p99: 0.006249999999999978\n",
    "- volume.mean: 610230.4980925389\n",
    "- volume.median: 500352.0\n",
    "- log_volume.std: 0.6948324769461587\n",
    "- log_volume.p95: 14.165700418814934\n"
   ]
  }
 ],
 "metadata": {
  "kernelspec": {
   "display_name": "Python 3 (ipykernel)",
   "language": "python",
   "name": "python3"
  },
  "language_info": {
   "codemirror_mode": {
    "name": "ipython",
    "version": 3
   },
   "file_extension": ".py",
   "mimetype": "text/x-python",
   "name": "python",
   "nbconvert_exporter": "python",
   "pygments_lexer": "ipython3",
   "version": "3.13.5"
  }
 },
 "nbformat": 4,
 "nbformat_minor": 5
}
